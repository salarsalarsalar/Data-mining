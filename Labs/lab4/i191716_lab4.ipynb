{
 "cells": [
  {
   "cell_type": "code",
   "execution_count": 57,
   "id": "1710b8c0",
   "metadata": {},
   "outputs": [],
   "source": [
    "import pandas as pd\n",
    "import matplotlib.pyplot as plt\n",
    "import numpy as np \n",
    "import seaborn as sns\n",
    "from scipy.stats import multivariate_normal\n",
    "from sklearn import datasets"
   ]
  },
  {
   "cell_type": "code",
   "execution_count": 62,
   "id": "85d9da37",
   "metadata": {},
   "outputs": [
    {
     "name": "stdout",
     "output_type": "stream",
     "text": [
      "dict_keys(['data', 'target', 'frame', 'target_names', 'DESCR', 'feature_names', 'filename'])\n",
      "No.of.data points (rows) : 569\n",
      "No.of.features (columns) : 30\n",
      "No.of.classes            : 2\n",
      "Class names              : ['malignant', 'benign']\n"
     ]
    }
   ],
   "source": [
    "data = dataset."
   ]
  },
  {
   "cell_type": "code",
   "execution_count": 63,
   "id": "1e73cae4",
   "metadata": {
    "collapsed": true
   },
   "outputs": [
    {
     "name": "stdout",
     "output_type": "stream",
     "text": [
      "0     float64\n",
      "1     float64\n",
      "2     float64\n",
      "3     float64\n",
      "4     float64\n",
      "5     float64\n",
      "6     float64\n",
      "7     float64\n",
      "8     float64\n",
      "9     float64\n",
      "10    float64\n",
      "11    float64\n",
      "12    float64\n",
      "13    float64\n",
      "14    float64\n",
      "15    float64\n",
      "16    float64\n",
      "17    float64\n",
      "18    float64\n",
      "19    float64\n",
      "20    float64\n",
      "21    float64\n",
      "22    float64\n",
      "23    float64\n",
      "24    float64\n",
      "25    float64\n",
      "26    float64\n",
      "27    float64\n",
      "28    float64\n",
      "29    float64\n",
      "dtype: object\n"
     ]
    }
   ],
   "source": [
    "df = pd.DataFrame(data.data)\n",
    "print(df.dtypes)"
   ]
  },
  {
   "cell_type": "code",
   "execution_count": 64,
   "id": "b2238380",
   "metadata": {},
   "outputs": [
    {
     "name": "stdout",
     "output_type": "stream",
     "text": [
      "X_train : (455, 30)\n",
      "y_train : (455,)\n",
      "X_test : (114, 30)\n",
      "y_test : (114,)\n"
     ]
    }
   ],
   "source": [
    "from sklearn.model_selection import train_test_split\n",
    "# split the dataset into training and testing \n",
    "X_train, X_test, y_train, y_test = train_test_split(data.data, data.target, test_size=0.20, random_state=9)\n",
    "\n",
    "print(\"X_train : \" + str(X_train.shape))\n",
    "print(\"y_train : \" + str(y_train.shape))\n",
    "print(\"X_test : \" + str(X_test.shape))\n",
    "print(\"y_test : \" + str(y_test.shape))"
   ]
  },
  {
   "cell_type": "code",
   "execution_count": 65,
   "id": "a25d2432",
   "metadata": {},
   "outputs": [],
   "source": [
    "def sigmoid(score):\n",
    "  return (1 / (1 + np.exp(-score)))\n",
    "\n",
    "def predict_probability(features, weights):\n",
    "  score = np.dot(features, weights)\n",
    "  return sigmoid(score)\n",
    "\n",
    "def compute_log_likelihood(features, label, weights):\n",
    "  indicator = (label==+1)\n",
    "  scores    = np.dot(features, weights)\n",
    "  ll        = np.sum((np.transpose(np.array([indicator]))-1)*scores - np.log(1. + np.exp(-scores)))\n",
    "  return ll\n",
    "def feature_derivative(errors, feature):\n",
    "  derivative = np.dot(np.transpose(errors), feature)\n",
    "  return derivative"
   ]
  },
  {
   "cell_type": "code",
   "execution_count": 69,
   "id": "e97011e2",
   "metadata": {},
   "outputs": [],
   "source": [
    "# logistic regression without L2 regularization\n",
    "def logistic_regression(features, labels, lr, epochs):\n",
    "\n",
    "  # add bias (intercept) with features matrix\n",
    "  bias      = np.ones((features.shape[0], 1))\n",
    "  features  = np.hstack((bias, features))\n",
    "\n",
    "  # initialize the weight coefficients\n",
    "  weights = np.zeros((features.shape[1], 1))\n",
    "\n",
    "  logs = []\n",
    "\n",
    "  # loop over epochs times\n",
    "  for epoch in range(epochs):\n",
    "\n",
    "    # predict probability for each row in the dataset\n",
    "    predictions = predict_probability(features, weights)\n",
    "\n",
    "    # calculate the indicator value\n",
    "    indicators = (labels==+1)\n",
    "\n",
    "    # calculate the errors\n",
    "    errors = np.transpose(np.array([indicators])) - predictions\n",
    "\n",
    "    # loop over each weight coefficient\n",
    "    for j in range(len(weights)):\n",
    "\n",
    "      # calculate the derivative of jth weight cofficient\n",
    "      derivative = feature_derivative(errors, features[:,j])\n",
    "      weights[j] += lr * derivative\n",
    "\n",
    "    # compute the log-likelihood\n",
    "    ll = compute_log_likelihood(features, labels, weights)\n",
    "    logs.append(ll)\n",
    "\n",
    "  import matplotlib.pyplot as plt\n",
    "  x = np.linspace(0, len(logs), len(logs))\n",
    "  fig = plt.figure()\n",
    "  plt.plot(x, logs)\n",
    "  fig.suptitle('Training the classifier')\n",
    "  plt.xlabel('Epoch')\n",
    "  plt.ylabel('Log-likelihood')\n",
    "  plt.show()\n",
    "\n",
    "  return weights"
   ]
  },
  {
   "cell_type": "code",
   "execution_count": 70,
   "id": "845d58ae",
   "metadata": {},
   "outputs": [],
   "source": [
    "def lr_with_regularization():\n",
    "  # hyper-parameters\n",
    "  learning_rate = 1e-7\n",
    "  epochs        = 300000\n",
    "  l2_penalty    = 0.001"
   ]
  },
  {
   "cell_type": "code",
   "execution_count": 72,
   "id": "1bc7455b",
   "metadata": {},
   "outputs": [
    {
     "data": {
      "image/png": "[encoded data removed]",
      "text/plain": [
       "<Figure size 432x288 with 1 Axes>"
      ]
     },
     "metadata": {
      "needs_background": "light"
     },
     "output_type": "display_data"
    }
   ],
   "source": [
    "# hyper-parameters\n",
    "learning_rate = 1e-7\n",
    "epochs        = 500\n",
    "\n",
    "# perform logistic regression\n",
    "learned_weights = logistic_regression(X_train, y_train, learning_rate, epochs)"
   ]
  },
  {
   "cell_type": "code",
   "execution_count": 73,
   "id": "ea7e8378",
   "metadata": {},
   "outputs": [
    {
     "name": "stdout",
     "output_type": "stream",
     "text": [
      "Accuracy of our LR classifier on training data: 0.9164835164835164\n",
      "Accuracy of our LR classifier on testing data: 0.9122807017543859\n"
     ]
    }
   ],
   "source": [
    "from sklearn.metrics import accuracy_score\n",
    "# make predictions using learned weights on testing data\n",
    "bias_train     = np.ones((X_train.shape[0], 1))\n",
    "bias_test      = np.ones((X_test.shape[0], 1))\n",
    "features_train = np.hstack((bias_train, X_train))\n",
    "features_test  = np.hstack((bias_test, X_test))\n",
    "\n",
    "test_predictions  = (predict_probability(features_test, learned_weights).flatten()>0.5)\n",
    "train_predictions = (predict_probability(features_train, learned_weights).flatten()>0.5)\n",
    "print(\"Accuracy of our LR classifier on training data: {}\".format(accuracy_score(np.expand_dims(y_train, axis=1), train_predictions)))\n",
    "print(\"Accuracy of our LR classifier on testing data: {}\".format(accuracy_score(np.expand_dims(y_test, axis=1), test_predictions)))"
   ]
  },
  {
   "cell_type": "code",
   "execution_count": null,
   "id": "43bfde65",
   "metadata": {},
   "outputs": [],
   "source": []
  }
 ],
 "metadata": {
  "kernelspec": {
   "display_name": "Python 3",
   "language": "python",
   "name": "python3"
  },
  "language_info": {
   "codemirror_mode": {
    "name": "ipython",
    "version": 3
   },
   "file_extension": ".py",
   "mimetype": "text/x-python",
   "name": "python",
   "nbconvert_exporter": "python",
   "pygments_lexer": "ipython3",
   "version": "3.8.8"
  }
 },
 "nbformat": 4,
 "nbformat_minor": 5
}
