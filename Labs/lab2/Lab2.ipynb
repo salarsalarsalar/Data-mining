{
 "cells": [
  {
   "cell_type": "code",
   "execution_count": 1,
   "id": "55cb6039-d9c8-4be7-b05a-e39cebd8f976",
   "metadata": {},
   "outputs": [],
   "source": [
    "import pandas as pd\n",
    "import matplotlib.pyplot as plt\n",
    "import numpy as np \n",
    "import seaborn as sns"
   ]
  },
  {
   "cell_type": "code",
   "execution_count": 2,
   "id": "a21a4df0-e383-412a-8f3a-e7288bd6e497",
   "metadata": {},
   "outputs": [],
   "source": [
    "# for start_index in range(0, total_size, batch_size_count):"
   ]
  },
  {
   "cell_type": "markdown",
   "id": "4708bdb0-ca2c-4ee7-85a4-bddb66d6b9f4",
   "metadata": {},
   "source": [
    "### Data used for prediction"
   ]
  },
  {
   "cell_type": "code",
   "execution_count": 3,
   "id": "fbc41f09-5361-481e-8c2a-4f56fe6436f5",
   "metadata": {},
   "outputs": [],
   "source": [
    "df = pd.read_csv(\"USA_Housing.csv\")"
   ]
  },
  {
   "cell_type": "code",
   "execution_count": 4,
   "id": "124c8ed7-9a48-4c18-8c4b-595b0556eac8",
   "metadata": {},
   "outputs": [
    {
     "data": {
      "text/html": [
       "<div>\n",
       "<style scoped>\n",
       "    .dataframe tbody tr th:only-of-type {\n",
       "        vertical-align: middle;\n",
       "    }\n",
       "\n",
       "    .dataframe tbody tr th {\n",
       "        vertical-align: top;\n",
       "    }\n",
       "\n",
       "    .dataframe thead th {\n",
       "        text-align: right;\n",
       "    }\n",
       "</style>\n",
       "<table border=\"1\" class=\"dataframe\">\n",
       "  <thead>\n",
       "    <tr style=\"text-align: right;\">\n",
       "      <th></th>\n",
       "      <th>Avg. Area House Age</th>\n",
       "      <th>Avg. Area Number of Rooms</th>\n",
       "      <th>Avg. Area Number of Bedrooms</th>\n",
       "      <th>Price</th>\n",
       "      <th>Unnamed: 4</th>\n",
       "    </tr>\n",
       "  </thead>\n",
       "  <tbody>\n",
       "    <tr>\n",
       "      <th>0</th>\n",
       "      <td>5.682861</td>\n",
       "      <td>7.009188</td>\n",
       "      <td>4.09</td>\n",
       "      <td>1.059034e+06</td>\n",
       "      <td>NaN</td>\n",
       "    </tr>\n",
       "    <tr>\n",
       "      <th>1</th>\n",
       "      <td>6.002900</td>\n",
       "      <td>6.730821</td>\n",
       "      <td>3.09</td>\n",
       "      <td>1.505891e+06</td>\n",
       "      <td>NaN</td>\n",
       "    </tr>\n",
       "    <tr>\n",
       "      <th>2</th>\n",
       "      <td>5.865890</td>\n",
       "      <td>8.512727</td>\n",
       "      <td>5.13</td>\n",
       "      <td>1.058988e+06</td>\n",
       "      <td>NaN</td>\n",
       "    </tr>\n",
       "    <tr>\n",
       "      <th>3</th>\n",
       "      <td>7.188236</td>\n",
       "      <td>5.586729</td>\n",
       "      <td>3.26</td>\n",
       "      <td>1.260617e+06</td>\n",
       "      <td>NaN</td>\n",
       "    </tr>\n",
       "    <tr>\n",
       "      <th>4</th>\n",
       "      <td>5.040555</td>\n",
       "      <td>7.839388</td>\n",
       "      <td>4.23</td>\n",
       "      <td>6.309435e+05</td>\n",
       "      <td>NaN</td>\n",
       "    </tr>\n",
       "    <tr>\n",
       "      <th>...</th>\n",
       "      <td>...</td>\n",
       "      <td>...</td>\n",
       "      <td>...</td>\n",
       "      <td>...</td>\n",
       "      <td>...</td>\n",
       "    </tr>\n",
       "    <tr>\n",
       "      <th>4995</th>\n",
       "      <td>7.830362</td>\n",
       "      <td>6.137356</td>\n",
       "      <td>3.46</td>\n",
       "      <td>1.060194e+06</td>\n",
       "      <td>NaN</td>\n",
       "    </tr>\n",
       "    <tr>\n",
       "      <th>4996</th>\n",
       "      <td>6.999135</td>\n",
       "      <td>6.576763</td>\n",
       "      <td>4.02</td>\n",
       "      <td>1.482618e+06</td>\n",
       "      <td>NaN</td>\n",
       "    </tr>\n",
       "    <tr>\n",
       "      <th>4997</th>\n",
       "      <td>7.250591</td>\n",
       "      <td>4.805081</td>\n",
       "      <td>2.13</td>\n",
       "      <td>1.030730e+06</td>\n",
       "      <td>NaN</td>\n",
       "    </tr>\n",
       "    <tr>\n",
       "      <th>4998</th>\n",
       "      <td>5.534388</td>\n",
       "      <td>7.130144</td>\n",
       "      <td>5.44</td>\n",
       "      <td>1.198657e+06</td>\n",
       "      <td>NaN</td>\n",
       "    </tr>\n",
       "    <tr>\n",
       "      <th>4999</th>\n",
       "      <td>5.992305</td>\n",
       "      <td>6.792336</td>\n",
       "      <td>4.07</td>\n",
       "      <td>1.298950e+06</td>\n",
       "      <td>NaN</td>\n",
       "    </tr>\n",
       "  </tbody>\n",
       "</table>\n",
       "<p>5000 rows × 5 columns</p>\n",
       "</div>"
      ],
      "text/plain": [
       "      Avg. Area House Age  Avg. Area Number of Rooms  \\\n",
       "0                5.682861                   7.009188   \n",
       "1                6.002900                   6.730821   \n",
       "2                5.865890                   8.512727   \n",
       "3                7.188236                   5.586729   \n",
       "4                5.040555                   7.839388   \n",
       "...                   ...                        ...   \n",
       "4995             7.830362                   6.137356   \n",
       "4996             6.999135                   6.576763   \n",
       "4997             7.250591                   4.805081   \n",
       "4998             5.534388                   7.130144   \n",
       "4999             5.992305                   6.792336   \n",
       "\n",
       "      Avg. Area Number of Bedrooms         Price  Unnamed: 4  \n",
       "0                             4.09  1.059034e+06         NaN  \n",
       "1                             3.09  1.505891e+06         NaN  \n",
       "2                             5.13  1.058988e+06         NaN  \n",
       "3                             3.26  1.260617e+06         NaN  \n",
       "4                             4.23  6.309435e+05         NaN  \n",
       "...                            ...           ...         ...  \n",
       "4995                          3.46  1.060194e+06         NaN  \n",
       "4996                          4.02  1.482618e+06         NaN  \n",
       "4997                          2.13  1.030730e+06         NaN  \n",
       "4998                          5.44  1.198657e+06         NaN  \n",
       "4999                          4.07  1.298950e+06         NaN  \n",
       "\n",
       "[5000 rows x 5 columns]"
      ]
     },
     "execution_count": 4,
     "metadata": {},
     "output_type": "execute_result"
    }
   ],
   "source": [
    "df"
   ]
  },
  {
   "cell_type": "markdown",
   "id": "393e05bf-3b5a-4b75-a3c5-57006615e1c6",
   "metadata": {},
   "source": [
    "### Initializing variables"
   ]
  },
  {
   "cell_type": "code",
   "execution_count": 16,
   "id": "200b32ec-1613-44cb-8298-72717b8c94b8",
   "metadata": {
    "tags": []
   },
   "outputs": [],
   "source": [
    "y = df['Price'].to_list()\n",
    "x1 = df['Avg. Area House Age'].to_numpy(copy=True)     \n",
    "x2 = df['Avg. Area Number of Rooms'].to_numpy(copy=True)\n",
    "x3 = df['Avg. Area Number of Bedrooms'].to_numpy(copy=True)\n",
    "m = 0\n",
    "c = 0\n",
    "n = float(len(y))\n",
    "L = 0.0001\n",
    "epoch = 1000\n",
    "\n",
    "# prediction\n",
    "y1 = np.array([])\n",
    "y2 = np.array([])\n",
    "y3 = np.array([])\n",
    "\n",
    "y_prime = np.array([])\n",
    "m1 = 0\n",
    "m2 = 0\n",
    "m3 = 0\n",
    "\n",
    "m1_new = 0\n",
    "m2_new = 0\n",
    "m3_new = 0\n",
    "\n",
    "\n",
    "c  = 0\n",
    "c_new = 0\n",
    "\n",
    "\n",
    "loss = np.array([])"
   ]
  },
  {
   "cell_type": "code",
   "execution_count": 17,
   "id": "48305625-5ee4-49a9-94ed-80014f228ca5",
   "metadata": {},
   "outputs": [],
   "source": [
    "\n",
    "#      r_m1 = round(m1 , 2)\n",
    "#      r_m2 = round(m2 , 2)\n",
    "#      r_m3 = round(m3 , 2)\n",
    "     \n",
    "#      r_c  = round(c , 2)\n",
    "#      r_c_new = round(c_new , 2)\n",
    "     \n",
    "#      r_Dm1 = round(Dm1 , 2)\n",
    "#      r_Dm2 = round(Dm2 , 2)\n",
    "#      r_Dm3 = round(Dm3 , 2)\n",
    "        \n",
    "#      r_loss = round(loss , 2)\n",
    "    \n",
    "#      r_m1_new = round(m1_new , 2)\n",
    "#      r_m2_new = round(m2_new , 2)\n",
    "#      r_m3_new = round(m3_new , 2)\n",
    "     "
   ]
  },
  {
   "cell_type": "code",
   "execution_count": 18,
   "id": "11650787-608f-4c87-bfa2-8e8526fa920c",
   "metadata": {},
   "outputs": [
    {
     "data": {
      "text/plain": [
       "int"
      ]
     },
     "execution_count": 18,
     "metadata": {},
     "output_type": "execute_result"
    }
   ],
   "source": [
    "type(c)"
   ]
  },
  {
   "cell_type": "code",
   "execution_count": 24,
   "id": "939c0980-9fcf-4b6d-ada7-e1bb2b59ed96",
   "metadata": {},
   "outputs": [],
   "source": [
    "loss1 = np.array([])\n",
    "for i in range(epoch):\n",
    "     y_prime = (m1*x1) + (m2*x2) + (m3*x3) + c\n",
    "     \n",
    "     loss = (sum((y - y_prime)**2))/n\n",
    "     np.append(loss1,loss)\n",
    "     Dm1 = (2/n) * sum(y-y_prime)*(x1)   \n",
    "     Dm2 = (2/n) * sum(y-y_prime)*(x2)\n",
    "     Dm3 = (2/n) * sum(y-y_prime)*(x3)\n",
    "        \n",
    "     Dc  = (2/n) * sum(y-y_prime)*(-1)   \n",
    "        \n",
    "     m1_new = m - (Dm1*L)\n",
    "     m2_new = m - (Dm2*L)\n",
    "     m3_new = m - (Dm3*L)\n",
    "     \n",
    "     c_new =  c - (Dc*L)\n",
    "    \n",
    "     m1 = m1_new\n",
    "     m2 = m2_new\n",
    "     m3 = m3_new\n",
    "    \n",
    "     c = c_new\n",
    "     \n",
    "     if(c.any() == c_new.any() and m1.any() == m1_new.any() and m2.any() == m2_new.any() and m3.any() == m3_new.any()):\n",
    "        break\n",
    "     if(loss == 0 and Dm1 == 0 and Dm2 == 0 and Dm3 == 0 and Dc == 0):\n",
    "        break\n",
    "     "
   ]
  },
  {
   "cell_type": "code",
   "execution_count": 25,
   "id": "5b85bcc3-897f-437d-ab11-9665f54bfbad",
   "metadata": {},
   "outputs": [
    {
     "data": {
      "text/plain": [
       "array([], dtype=float64)"
      ]
     },
     "execution_count": 25,
     "metadata": {},
     "output_type": "execute_result"
    }
   ],
   "source": [
    "loss1"
   ]
  },
  {
   "cell_type": "code",
   "execution_count": null,
   "id": "f775d8ef-f813-4ed0-94f4-47300776fccb",
   "metadata": {},
   "outputs": [],
   "source": []
  }
 ],
 "metadata": {
  "kernelspec": {
   "display_name": "Python 3",
   "language": "python",
   "name": "python3"
  },
  "language_info": {
   "codemirror_mode": {
    "name": "ipython",
    "version": 3
   },
   "file_extension": ".py",
   "mimetype": "text/x-python",
   "name": "python",
   "nbconvert_exporter": "python",
   "pygments_lexer": "ipython3",
   "version": "3.8.8"
  }
 },
 "nbformat": 4,
 "nbformat_minor": 5
}
