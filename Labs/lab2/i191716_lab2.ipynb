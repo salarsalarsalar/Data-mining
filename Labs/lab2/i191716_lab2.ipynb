{
 "cells": [
  {
   "cell_type": "code",
   "execution_count": 1,
   "metadata": {},
   "outputs": [],
   "source": [
    "import pandas as pd\n",
    "import numpy as np\n",
    "import matplotlib.pyplot as plt"
   ]
  },
  {
   "cell_type": "code",
   "execution_count": 2,
   "metadata": {},
   "outputs": [],
   "source": [
    "df=pd.read_csv(\"USA_Housing.csv\")"
   ]
  },
  {
   "cell_type": "code",
   "execution_count": 3,
   "metadata": {},
   "outputs": [
    {
     "data": {
      "text/html": [
       "<div>\n",
       "<style scoped>\n",
       "    .dataframe tbody tr th:only-of-type {\n",
       "        vertical-align: middle;\n",
       "    }\n",
       "\n",
       "    .dataframe tbody tr th {\n",
       "        vertical-align: top;\n",
       "    }\n",
       "\n",
       "    .dataframe thead th {\n",
       "        text-align: right;\n",
       "    }\n",
       "</style>\n",
       "<table border=\"1\" class=\"dataframe\">\n",
       "  <thead>\n",
       "    <tr style=\"text-align: right;\">\n",
       "      <th></th>\n",
       "      <th>Avg. Area House Age</th>\n",
       "      <th>Avg. Area Number of Rooms</th>\n",
       "      <th>Avg. Area Number of Bedrooms</th>\n",
       "      <th>Price</th>\n",
       "      <th>Unnamed: 4</th>\n",
       "    </tr>\n",
       "  </thead>\n",
       "  <tbody>\n",
       "    <tr>\n",
       "      <th>0</th>\n",
       "      <td>5.682861</td>\n",
       "      <td>7.009188</td>\n",
       "      <td>4.09</td>\n",
       "      <td>1.059034e+06</td>\n",
       "      <td>NaN</td>\n",
       "    </tr>\n",
       "    <tr>\n",
       "      <th>1</th>\n",
       "      <td>6.002900</td>\n",
       "      <td>6.730821</td>\n",
       "      <td>3.09</td>\n",
       "      <td>1.505891e+06</td>\n",
       "      <td>NaN</td>\n",
       "    </tr>\n",
       "    <tr>\n",
       "      <th>2</th>\n",
       "      <td>5.865890</td>\n",
       "      <td>8.512727</td>\n",
       "      <td>5.13</td>\n",
       "      <td>1.058988e+06</td>\n",
       "      <td>NaN</td>\n",
       "    </tr>\n",
       "    <tr>\n",
       "      <th>3</th>\n",
       "      <td>7.188236</td>\n",
       "      <td>5.586729</td>\n",
       "      <td>3.26</td>\n",
       "      <td>1.260617e+06</td>\n",
       "      <td>NaN</td>\n",
       "    </tr>\n",
       "    <tr>\n",
       "      <th>4</th>\n",
       "      <td>5.040555</td>\n",
       "      <td>7.839388</td>\n",
       "      <td>4.23</td>\n",
       "      <td>6.309435e+05</td>\n",
       "      <td>NaN</td>\n",
       "    </tr>\n",
       "    <tr>\n",
       "      <th>...</th>\n",
       "      <td>...</td>\n",
       "      <td>...</td>\n",
       "      <td>...</td>\n",
       "      <td>...</td>\n",
       "      <td>...</td>\n",
       "    </tr>\n",
       "    <tr>\n",
       "      <th>4995</th>\n",
       "      <td>7.830362</td>\n",
       "      <td>6.137356</td>\n",
       "      <td>3.46</td>\n",
       "      <td>1.060194e+06</td>\n",
       "      <td>NaN</td>\n",
       "    </tr>\n",
       "    <tr>\n",
       "      <th>4996</th>\n",
       "      <td>6.999135</td>\n",
       "      <td>6.576763</td>\n",
       "      <td>4.02</td>\n",
       "      <td>1.482618e+06</td>\n",
       "      <td>NaN</td>\n",
       "    </tr>\n",
       "    <tr>\n",
       "      <th>4997</th>\n",
       "      <td>7.250591</td>\n",
       "      <td>4.805081</td>\n",
       "      <td>2.13</td>\n",
       "      <td>1.030730e+06</td>\n",
       "      <td>NaN</td>\n",
       "    </tr>\n",
       "    <tr>\n",
       "      <th>4998</th>\n",
       "      <td>5.534388</td>\n",
       "      <td>7.130144</td>\n",
       "      <td>5.44</td>\n",
       "      <td>1.198657e+06</td>\n",
       "      <td>NaN</td>\n",
       "    </tr>\n",
       "    <tr>\n",
       "      <th>4999</th>\n",
       "      <td>5.992305</td>\n",
       "      <td>6.792336</td>\n",
       "      <td>4.07</td>\n",
       "      <td>1.298950e+06</td>\n",
       "      <td>NaN</td>\n",
       "    </tr>\n",
       "  </tbody>\n",
       "</table>\n",
       "<p>5000 rows × 5 columns</p>\n",
       "</div>"
      ],
      "text/plain": [
       "      Avg. Area House Age  Avg. Area Number of Rooms  \\\n",
       "0                5.682861                   7.009188   \n",
       "1                6.002900                   6.730821   \n",
       "2                5.865890                   8.512727   \n",
       "3                7.188236                   5.586729   \n",
       "4                5.040555                   7.839388   \n",
       "...                   ...                        ...   \n",
       "4995             7.830362                   6.137356   \n",
       "4996             6.999135                   6.576763   \n",
       "4997             7.250591                   4.805081   \n",
       "4998             5.534388                   7.130144   \n",
       "4999             5.992305                   6.792336   \n",
       "\n",
       "      Avg. Area Number of Bedrooms         Price  Unnamed: 4  \n",
       "0                             4.09  1.059034e+06         NaN  \n",
       "1                             3.09  1.505891e+06         NaN  \n",
       "2                             5.13  1.058988e+06         NaN  \n",
       "3                             3.26  1.260617e+06         NaN  \n",
       "4                             4.23  6.309435e+05         NaN  \n",
       "...                            ...           ...         ...  \n",
       "4995                          3.46  1.060194e+06         NaN  \n",
       "4996                          4.02  1.482618e+06         NaN  \n",
       "4997                          2.13  1.030730e+06         NaN  \n",
       "4998                          5.44  1.198657e+06         NaN  \n",
       "4999                          4.07  1.298950e+06         NaN  \n",
       "\n",
       "[5000 rows x 5 columns]"
      ]
     },
     "execution_count": 3,
     "metadata": {},
     "output_type": "execute_result"
    }
   ],
   "source": [
    "df"
   ]
  },
  {
   "cell_type": "code",
   "execution_count": 5,
   "metadata": {},
   "outputs": [],
   "source": [
    "epochs=1000 "
   ]
  },
  {
   "cell_type": "code",
   "execution_count": 8,
   "metadata": {},
   "outputs": [],
   "source": [
    "n = float(len(df['Price']))"
   ]
  },
  {
   "cell_type": "code",
   "execution_count": 52,
   "metadata": {},
   "outputs": [],
   "source": [
    "def regression(l):\n",
    "        m=0\n",
    "        m1=0\n",
    "        m2=0\n",
    "        c=0\n",
    "        Loss=[]\n",
    "        L=l\n",
    "        for i in range(epochs):\n",
    "            y_prime=(m*df[\"Avg. Area House Age\"]+m1*df[\"Avg. Area Number of Rooms\"]+m2*df[\"Avg. Area Number of Bedrooms\"])  + c\n",
    "            dm=(-2/n) *sum((df[\"Price\"]-y_prime)*df[\"Avg. Area House Age\"])\n",
    "            dm1=(-2/n) *sum((df[\"Price\"]-y_prime)*df[\"Avg. Area Number of Rooms\"])\n",
    "            dm2=(-2/n) *sum((df[\"Price\"]-y_prime)*df[\"Avg. Area Number of Bedrooms\"])\n",
    "            dc=(-2/n)*sum((df[\"Price\"])-y_prime)\n",
    "            loss=round((sum((df[\"Price\"]-y_prime)**2))/5000,2)\n",
    "            Loss.append([i,loss])\n",
    "            a=m\n",
    "            a1=m1\n",
    "            a2=m2\n",
    "            c1=c\n",
    "            m=round(m-dm*L,5)\n",
    "            m1=round(m1-dm1*L,5)\n",
    "            m2=round(m2-dm2*L,5)\n",
    "            c=round(c-dc*L,5)\n",
    "            round(c,5)\n",
    "            if(m==a or m1==a1 or m2==a2 or c==c1):\n",
    "                 break\n",
    "\n",
    "            if(dm==0 or dm1==0 or dm2==0 or dc==0):\n",
    "                break0\n",
    "            if(loss<30):\n",
    "                break\n",
    "\n",
    "\n",
    "        #print(m,m1,m2,c,loss)   \n",
    "        #print(Loss)\n",
    "        yield Loss\n",
    "l1=regression(0.00061)\n",
    "l2=regression(0.0055)\n",
    "l3=regression(0.00011)\n",
    "l4=regression(0.00053)"
   ]
  },
  {
   "cell_type": "code",
   "execution_count": 53,
   "metadata": {},
   "outputs": [
    {
     "data": {
      "text/plain": [
       "Text(0, 0.5, 'loss')"
      ]
     },
     "execution_count": 53,
     "metadata": {},
     "output_type": "execute_result"
    },
    {
     "data": {
      "image/png": "[encoded data removed]",
      "text/plain": [
       "<Figure size 432x288 with 1 Axes>"
      ]
     },
     "metadata": {
      "needs_background": "light"
     },
     "output_type": "display_data"
    }
   ],
   "source": [
    "plt.plot(l1[0],l1[1])\n",
    "plt.plot(l2[0],l2[1])\n",
    "plt.plot(l3[0],l3[1])\n",
    "plt.plot(l4[0],l4[1])\n",
    "plt.xlabel(\"Epochs\")\n",
    "plt.ylabel(\"loss\")"
   ]
  },
  {
   "cell_type": "code",
   "execution_count": 54,
   "metadata": {},
   "outputs": [
    {
     "data": {
      "text/plain": [
       "<function matplotlib.pyplot.show(*args, **kw)>"
      ]
     },
     "execution_count": 54,
     "metadata": {},
     "output_type": "execute_result"
    },
    {
     "data": {
      "image/png": "[encoded data removed]",
      "text/plain": [
       "<Figure size 432x288 with 1 Axes>"
      ]
     },
     "metadata": {
      "needs_background": "light"
     },
     "output_type": "display_data"
    }
   ],
   "source": [
    "y=m*df[\"Avg. Area House Age\"]+c\n",
    "plt.scatter(df[\"Avg. Area House Age\"],df[\"Price\"])\n",
    "plt.plot([min(df[\"Avg. Area House Age\"]),max(df[\"Avg. Area House Age\"])],[min(y),max(y)],color='red')\n",
    "plt.show"
   ]
  }
 ],
 "metadata": {
  "kernelspec": {
   "display_name": "Python 3",
   "language": "python",
   "name": "python3"
  },
  "language_info": {
   "codemirror_mode": {
    "name": "ipython",
    "version": 3
   },
   "file_extension": ".py",
   "mimetype": "text/x-python",
   "name": "python",
   "nbconvert_exporter": "python",
   "pygments_lexer": "ipython3",
   "version": "3.8.8"
  }
 },
 "nbformat": 4,
 "nbformat_minor": 4
}
